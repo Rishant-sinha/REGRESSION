{
  "nbformat": 4,
  "nbformat_minor": 0,
  "metadata": {
    "colab": {
      "provenance": []
    },
    "kernelspec": {
      "name": "python3",
      "display_name": "Python 3"
    },
    "language_info": {
      "name": "python"
    }
  },
  "cells": [
    {
      "cell_type": "markdown",
      "source": [
        "#1. What is Simple Linear Regression?\n",
        "\n",
        "- A statistical method that models the relationship between two variables using a straight line: one independent variable (X) and one dependent variable (Y).\n"
      ],
      "metadata": {
        "id": "jgnHUNNPZ1kK"
      }
    },
    {
      "cell_type": "markdown",
      "source": [
        "#2. What are the key assumptions of Simple Linear Regression?\n",
        "\n",
        "- Linearity\n",
        "\n",
        "- Independence of errors\n",
        "\n",
        "- Homoscedasticity (constant variance)\n",
        "\n",
        "- Normal distribution of errors"
      ],
      "metadata": {
        "id": "3Vg48PxmZ776"
      }
    },
    {
      "cell_type": "markdown",
      "source": [
        "#3. What does the coefficient m represent in the equation Y=mX+c?\n",
        "\n",
        "- m is the slope; it shows how much Y changes for a one-unit change in X.\n"
      ],
      "metadata": {
        "id": "w9TLZJGCaD3V"
      }
    },
    {
      "cell_type": "markdown",
      "source": [
        "#4. What does the intercept c represent in the equation Y=mX+c?\n",
        "\n",
        "- c is the value of Y when X = 0; it's where the line crosses the Y-axis.\n",
        "\n"
      ],
      "metadata": {
        "id": "njM-pI55aR2C"
      }
    },
    {
      "cell_type": "markdown",
      "source": [
        "#5. How do we calculate the slope m in Simple Linear Regression?\n",
        "\n",
        "- m=\n",
        "∑(X\n",
        "i\n",
        "​\n",
        " −\n",
        "X\n",
        "ˉ\n",
        " )\n",
        "/\n",
        "\n",
        " ∑(X\n",
        "i\n",
        "​\n",
        " −\n",
        "X\n",
        "ˉ\n",
        " )(Y\n",
        "i\n",
        "​\n",
        " −\n",
        "Y\n",
        "ˉ\n",
        " )\n",
        "​\n"
      ],
      "metadata": {
        "id": "irhykSxGaZz2"
      }
    },
    {
      "cell_type": "markdown",
      "source": [
        "#6. What is the purpose of the least squares method in Simple Linear Regression?\n",
        "\n",
        "- To minimize the sum of squared differences between observed and predicted Y values (residuals).\n",
        "\n"
      ],
      "metadata": {
        "id": "fUN4e2hOazqz"
      }
    },
    {
      "cell_type": "markdown",
      "source": [
        "#7. How is the coefficient of determination (R²) interpreted in Simple Linear Regression?\n",
        "\n",
        "- It indicates how well the model explains the variation in Y. R² = 1 means perfect fit; R² = 0 means no predictive power.\n",
        "\n"
      ],
      "metadata": {
        "id": "OoQK4afAbMB6"
      }
    },
    {
      "cell_type": "markdown",
      "source": [
        "#8. What is Multiple Linear Regression?\n",
        "\n",
        "An extension of simple linear regression that uses two or more independent variables to predict a dependent variable."
      ],
      "metadata": {
        "id": "afOreuLLbTI-"
      }
    },
    {
      "cell_type": "markdown",
      "source": [
        "#9. What is the main difference between Simple and Multiple Linear Regression?\n",
        "\n",
        " Simple: 1 independent variable.\n",
        "\n",
        " Multiple: 2 or more independent variables.\n"
      ],
      "metadata": {
        "id": "gtMBogn7bbcB"
      }
    },
    {
      "cell_type": "markdown",
      "source": [
        "#10. What are the key assumptions of Multiple Linear Regression?\n",
        "\n",
        "- Same as simple, plus:\n",
        "\n",
        " No multicollinearity\n",
        "\n",
        " Additivity (effects of Xs add up linearly)\n",
        "\n"
      ],
      "metadata": {
        "id": "-Agdnsyib0be"
      }
    },
    {
      "cell_type": "markdown",
      "source": [
        "#11. What is heteroscedasticity, and how does it affect the results of a Multiple Linear Regression model?\n",
        "\n",
        "- When error variances change across levels of X. It violates model assumptions and affects reliability of estimates.\n",
        "\n"
      ],
      "metadata": {
        "id": "dMxj_HR8b_FP"
      }
    },
    {
      "cell_type": "markdown",
      "source": [
        "#12. How can you improve a Multiple Linear Regression model with high multicollinearity?\n",
        "\n",
        "- Remove or combine correlated variables\n",
        "\n",
        "- Use regularization (Ridge, Lasso)\n",
        "\n",
        "- Apply PCA (Principal Component Analysis)\n",
        "\n"
      ],
      "metadata": {
        "id": "RQfPSeK-cF-1"
      }
    },
    {
      "cell_type": "markdown",
      "source": [
        "#13.  What are some common techniques for transforming categorical variables for use in regression models?\n",
        "\n",
        "- One-hot encoding\n",
        "\n",
        "- Label encoding\n",
        "\n",
        "- Binary encoding\n",
        "\n",
        "- Ordinal encoding (for ordered categories)"
      ],
      "metadata": {
        "id": "IRgy7QYhcN4V"
      }
    },
    {
      "cell_type": "markdown",
      "source": [
        "#14. What is the role of interaction terms in Multiple Linear Regression?\n",
        "\n",
        "- To capture the combined effect of two variables that may not be visible when considered separately.\n",
        "\n"
      ],
      "metadata": {
        "id": "Es9hzYH0cYW5"
      }
    },
    {
      "cell_type": "markdown",
      "source": [
        "#15. How can the interpretation of intercept differ between Simple and Multiple Linear Regression?\n",
        "\n",
        "- In Simple: value of Y when X = 0\n",
        "- In Multiple: value of Y when all Xs = 0 (may not always be meaningful)"
      ],
      "metadata": {
        "id": "qq7OrmEgcogm"
      }
    },
    {
      "cell_type": "markdown",
      "source": [
        "#16. What is the significance of the slope in regression analysis, and how does it affect predictions?\n",
        "\n",
        "- Shows the strength and direction of the relationship; larger slope means a stronger effect of X on Y.\n"
      ],
      "metadata": {
        "id": "qh9dsHemcv5-"
      }
    },
    {
      "cell_type": "markdown",
      "source": [
        "#17. How does the intercept in a regression model provide context for the relationship between variables?\n",
        "\n",
        "- It gives a baseline value of Y when all Xs are zero, helping interpret the scale and starting point.\n",
        "\n"
      ],
      "metadata": {
        "id": "AvMVOu99c8nj"
      }
    },
    {
      "cell_type": "markdown",
      "source": [
        "#18. What are the limitations of using R² as a sole measure of model performance?\n",
        "\n",
        "- Doesn't account for overfitting\n",
        "\n",
        "- Doesn’t show if predictors are meaningful\n",
        "\n",
        "- Ignores model complexity\n",
        "\n"
      ],
      "metadata": {
        "id": "dO5WZWn_dD1s"
      }
    },
    {
      "cell_type": "markdown",
      "source": [
        "#19. How would you interpret a large standard error for a regression coefficient?\n",
        "\n",
        "- Indicates that the coefficient estimate is unstable and possibly not statistically significant."
      ],
      "metadata": {
        "id": "2bCY0KPodbE8"
      }
    },
    {
      "cell_type": "markdown",
      "source": [
        "#20. How can heteroscedasticity be identified in residual plots, and why is it important to address it?\n",
        "\n",
        "- Look for funnel shapes or patterns in residuals. Important because it affects confidence intervals and p-values.\n",
        "\n"
      ],
      "metadata": {
        "id": "cWBbb8agdfvZ"
      }
    },
    {
      "cell_type": "markdown",
      "source": [
        "#21. What does it mean if a Multiple Linear Regression model has a high R² but low adjusted R²?\n",
        "\n",
        "- Suggests that non-significant variables were added, inflating R² without improving the model."
      ],
      "metadata": {
        "id": "d-E6mQMhdk8e"
      }
    },
    {
      "cell_type": "markdown",
      "source": [
        "#22. Why is it important to scale variables in Multiple Linear Regression?\n",
        "\n",
        "- To ensure all variables contribute equally and to improve model performance, especially with regularization.\n",
        "\n",
        "\n",
        "\n",
        "\n"
      ],
      "metadata": {
        "id": "v1qEZoTgdtTV"
      }
    },
    {
      "cell_type": "markdown",
      "source": [
        "#23. What is polynomial regression?\n",
        "\n",
        "- A type of regression that models the relationship between X and Y using powers of X (e.g., X², X³).\n",
        "\n"
      ],
      "metadata": {
        "id": "FTKBOOVBd3Q1"
      }
    },
    {
      "cell_type": "markdown",
      "source": [
        "#24. How does polynomial regression differ from linear regression?\n",
        "\n",
        "- Linear uses a straight line; polynomial uses curves to fit more complex patterns.\n",
        "\n"
      ],
      "metadata": {
        "id": "MGwBTyTNd9wZ"
      }
    },
    {
      "cell_type": "markdown",
      "source": [
        "#25. When is polynomial regression used?\n",
        "\n",
        "- When the data shows a nonlinear trend that a straight line can't capture.\n",
        "\n"
      ],
      "metadata": {
        "id": "y0Se1nIhese6"
      }
    },
    {
      "cell_type": "markdown",
      "source": [
        "#26. What is the general equation for polynomial regression?\n",
        "\n",
        "- Y=a\n",
        "0\n",
        "​\n",
        " +a\n",
        "1\n",
        "​\n",
        " X+a\n",
        "2\n",
        "​\n",
        " X\n",
        "2\n",
        " +a\n",
        "3\n",
        "​\n",
        " X\n",
        "3\n",
        " +…+a\n",
        "n\n",
        "​\n",
        " X\n",
        "n"
      ],
      "metadata": {
        "id": "bJ7vwaC8e0VG"
      }
    },
    {
      "cell_type": "markdown",
      "source": [
        "#27. Can polynomial regression be applied to multiple variables?\n",
        "\n",
        "- Yes, called multivariate polynomial regression, using polynomial terms for each variable.\n",
        "\n"
      ],
      "metadata": {
        "id": "tatPa4JJe_6p"
      }
    },
    {
      "cell_type": "markdown",
      "source": [
        "#28. What are the limitations of polynomial regression?\n",
        "\n",
        "- Overfitting with high degrees\n",
        "\n",
        "- Poor extrapolation\n",
        "\n",
        "- Computationally expensive\n",
        "\n"
      ],
      "metadata": {
        "id": "pNOZ9uOIfG6p"
      }
    },
    {
      "cell_type": "markdown",
      "source": [
        "#29. What methods can be used to evaluate model fit when selecting the degree of a polynomial?\n",
        "\n",
        "- Cross-validation\n",
        "\n",
        "- Adjusted R²\n",
        "\n",
        "- AIC/BIC\n",
        "\n",
        "- Plotting residuals"
      ],
      "metadata": {
        "id": "nPv0MMF5fO5e"
      }
    },
    {
      "cell_type": "markdown",
      "source": [
        "#30. Why is visualization important in polynomial regression?\n",
        "\n",
        "- It helps identify non-linear patterns, overfitting, and model fit quality."
      ],
      "metadata": {
        "id": "c5YUr0pZfg9F"
      }
    },
    {
      "cell_type": "code",
      "source": [
        "#31. How is polynomial regression implemented in Python?\n",
        "\n",
        "import numpy as np\n",
        "from sklearn.linear_model import LinearRegression\n",
        "from sklearn.preprocessing import PolynomialFeatures\n",
        "\n",
        "X = np.array([[1], [2], [3], [4]])\n",
        "y = np.array([2, 6, 14, 28])\n",
        "\n",
        "poly = PolynomialFeatures(degree=2)\n",
        "X_poly = poly.fit_transform(X)\n",
        "\n",
        "model = LinearRegression().fit(X_poly, y)\n",
        "print(model.coef_, model.intercept_)\n"
      ],
      "metadata": {
        "colab": {
          "base_uri": "https://localhost:8080/"
        },
        "id": "EeXZ2l3Jfno-",
        "outputId": "40c61b5f-d606-4426-b3d2-af88c7a15b20"
      },
      "execution_count": 1,
      "outputs": [
        {
          "output_type": "stream",
          "name": "stdout",
          "text": [
            "[ 0.  -3.9  2.5] 3.4999999999999893\n"
          ]
        }
      ]
    }
  ]
}